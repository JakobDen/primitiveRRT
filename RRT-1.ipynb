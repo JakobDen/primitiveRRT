{
 "cells": [
  {
   "cell_type": "code",
   "execution_count": 1,
   "metadata": {},
   "outputs": [
    {
     "data": {
      "text/plain": [
       "(-4.999750008349846e-05, 1.5708463230451675)"
      ]
     },
     "execution_count": 1,
     "metadata": {},
     "output_type": "execute_result"
    },
    {
     "ename": "",
     "evalue": "",
     "output_type": "error",
     "traceback": [
      "\u001b[1;31mThe Kernel crashed while executing code in the the current cell or a previous cell. Please review the code in the cell(s) to identify a possible cause of the failure. Click <a href='https://aka.ms/vscodeJupyterKernelCrash'>here</a> for more info. View Jupyter <a href='command:jupyter.viewOutput'>log</a> for further details."
     ]
    }
   ],
   "source": [
    "import math\n",
    "def angle_distance(theta1, theta2, theta3, theta4):\n",
    "    d1 = math.sqrt((theta1 - (theta3)) ** 2 + (theta2 - (theta4)) ** 2)\n",
    "    d2 = math.sqrt((theta1 - (theta3 - 2 * math.pi)) ** 2 + (theta2 - (theta4)) ** 2)\n",
    "    d3 = math.sqrt((theta1 - (theta3 + 2 * math.pi)) ** 2 + (theta2 - (theta4)) ** 2)\n",
    "    d4 = math.sqrt((theta1 - (theta3)) ** 2 + (theta2 - (theta4 - 2 * math.pi)) ** 2)\n",
    "    d5 = math.sqrt((theta1 - (theta3)) ** 2 + (theta2 - (theta4 + 2 * math.pi)) ** 2)\n",
    "    real_dist = min([d1, d2, d3, d4, d5])\n",
    "    if d1 == real_dist:\n",
    "        return d1, (theta3 - theta1, theta4 - theta2)\n",
    "    elif d2 == real_dist:\n",
    "        return d2, (theta3 - 2 * math.pi - theta1, theta4 - theta2)\n",
    "    elif d3 == real_dist:\n",
    "        return d3, (theta3 + 2 * math.pi - theta1, theta4 - theta2)\n",
    "    elif d4 == real_dist:\n",
    "        return d4, (theta3 - theta1, theta4 - 2 * math.pi - theta2)\n",
    "    else:\n",
    "        return d5, (theta3 - theta1, theta4 + 2 * math.pi - theta2)\n",
    "def coord_to_angles(x, y, L1, L2):\n",
    "    eps = 0.0001\n",
    "    theta1 = math.atan(y / (x + eps)) - math.acos((L1 ** 2 + x ** 2 + y ** 2 - L2 ** 2)/(2 * L1 * math.sqrt(x ** 2 + y ** 2)))\n",
    "    theta2 = math.atan((y - L1 * math.sin(theta1)) / (x - L1 * math.cos(theta1))) - theta1\n",
    "    \n",
    "    return theta1, theta2\n",
    "coord_to_angles(1, 1, 1, 1)\n"
   ]
  },
  {
   "cell_type": "code",
   "execution_count": null,
   "metadata": {},
   "outputs": [],
   "source": []
  }
 ],
 "metadata": {
  "kernelspec": {
   "display_name": "base",
   "language": "python",
   "name": "python3"
  },
  "language_info": {
   "codemirror_mode": {
    "name": "ipython",
    "version": 3
   },
   "file_extension": ".py",
   "mimetype": "text/x-python",
   "name": "python",
   "nbconvert_exporter": "python",
   "pygments_lexer": "ipython3",
   "version": "3.9.12"
  }
 },
 "nbformat": 4,
 "nbformat_minor": 2
}
